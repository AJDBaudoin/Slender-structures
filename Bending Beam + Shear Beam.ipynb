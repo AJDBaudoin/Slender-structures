{
 "cells": [
  {
   "cell_type": "code",
   "execution_count": 1,
   "id": "61001957-127a-449f-9777-52ef61a60153",
   "metadata": {},
   "outputs": [],
   "source": [
    "import sympy as sym\n",
    "import numpy as np\n",
    "import matplotlib.pyplot as plt"
   ]
  },
  {
   "cell_type": "code",
   "execution_count": 2,
   "id": "bd37f28d-9e74-4383-8120-cd06d637fdc1",
   "metadata": {},
   "outputs": [],
   "source": [
    "x = sym.symbols('x')\n",
    "x0, x1, x2, x3, x4 = 0, 5, 7, 9, 13\n",
    "C1,C2,C3,C4,C5,C6,C7,C8,C9,C10,C11,C12,C13,C14 = sym.symbols('C_1 C_2 C_3 C_4 C_5 C_6 C_7 C_8 C_9 C_10 C_11 C_12 C_13 C_14')\n",
    "q = 8\n",
    "F = 25\n",
    "EI = 1500\n",
    "k = 1000\n",
    "\n",
    "w1 = sym.Function('w_1')(x)\n",
    "w2 = sym.Function('w_2')(x)\n",
    "w3 = sym.Function('w_3')(x)\n",
    "w4 = sym.Function('w_4')(x)\n",
    "\n",
    "ODE1 = sym.Eq(EI * sym.diff(w1, x, 4), q)\n",
    "ODE2 = sym.Eq(EI * sym.diff(w2, x, 4), 0)\n",
    "ODE3 = sym.Eq(EI * sym.diff(w3, x, 4), 0)\n",
    "ODE4 = sym.Eq(k * sym.diff(w4, x, 2), 0)\n",
    "\n",
    "\n",
    "w1 = sym.dsolve(ODE1).subs({'C1': C1, 'C2': C2, 'C3': C3, 'C4': C4}).rhs\n",
    "w2 = sym.dsolve(ODE2).subs({'C1': C5, 'C2': C6, 'C3': C7, 'C4': C8}).rhs\n",
    "w3 = sym.dsolve(ODE3).subs({'C1': C9, 'C2': C10, 'C3': C11, 'C4': C12}).rhs\n",
    "w4 = sym.dsolve(ODE4).subs({'C1': C13, 'C2': C14}).rhs\n",
    "o1, o2, o3 = -sym.diff(w1, x), -sym.diff(w2, x), -sym.diff(w3, x)\n",
    "M1, M2, M3 = EI * sym.diff(o1, x), EI * sym.diff(o2, x), EI * sym.diff(o3, x)\n",
    "V1, V2, V3, V4 = sym.diff(M1, x), sym.diff(M2, x), sym.diff(M3, x), k * sym.diff(w4, x)\n",
    "\n",
    "eq1 = sym.Eq(w1.subs(x,x0),0)\n",
    "eq2 = sym.Eq(M1.subs(x,x0),0)\n",
    "eq3 = sym.Eq(w1.subs(x,x1),0)\n",
    "eq4 = sym.Eq(w1.subs(x,x1)-w2.subs(x,x1),0)\n",
    "eq5 = sym.Eq(o1.subs(x,x1)-o2.subs(x,x1),0)\n",
    "eq6 = sym.Eq(M1.subs(x,x1)-M2.subs(x,x1),0)\n",
    "eq7 = sym.Eq(w2.subs(x,x2)-w3.subs(x,x2),0)\n",
    "eq8 = sym.Eq(o2.subs(x,x2)-o3.subs(x,x2),0)\n",
    "eq9 = sym.Eq(M2.subs(x,x2)-M3.subs(x,x2),0)\n",
    "eq10 = sym.Eq(V2.subs(x,x2)-F-V3.subs(x,x2),0)\n",
    "eq11 = sym.Eq(w3.subs(x,x3)-w4.subs(x,x3),0)\n",
    "eq12 = sym.Eq(o3.subs(x,x3),0)\n",
    "eq13 = sym.Eq(V3.subs(x,x3)-V4.subs(x,x3),0)\n",
    "eq14 = sym.Eq(w4.subs(x,x4),0)\n",
    "\n",
    "sol = sym.solve((eq1,eq2,eq3,eq4,eq5,eq6,eq7,eq8,eq9,eq10,eq11,eq12,eq13,eq14),(C1,C2,C3,C4,C5,C6,C7,C8,C9,C10,C11,C12,C13,C14))"
   ]
  },
  {
   "cell_type": "code",
   "execution_count": 3,
   "id": "c7ed5cc3-c623-4982-9592-effc4272b73e",
   "metadata": {},
   "outputs": [
    {
     "data": {
      "text/latex": [
       "$\\displaystyle \\frac{x^{4}}{4500} - \\frac{407 x^{3}}{245400} + \\frac{403 x}{29448}$"
      ],
      "text/plain": [
       "x**4/4500 - 407*x**3/245400 + 403*x/29448"
      ]
     },
     "metadata": {},
     "output_type": "display_data"
    },
    {
     "data": {
      "text/latex": [
       "$\\displaystyle - \\frac{311 x^{3}}{147240} + \\frac{197 x^{2}}{4908} - \\frac{2381 x}{9816} + \\frac{3485}{7362}$"
      ],
      "text/plain": [
       "-311*x**3/147240 + 197*x**2/4908 - 2381*x/9816 + 3485/7362"
      ]
     },
     "metadata": {},
     "output_type": "display_data"
    },
    {
     "data": {
      "text/latex": [
       "$\\displaystyle \\frac{49 x^{3}}{73620} - \\frac{893 x^{2}}{49080} + \\frac{339 x}{2045} - \\frac{7843}{16360}$"
      ],
      "text/plain": [
       "49*x**3/73620 - 893*x**2/49080 + 339*x/2045 - 7843/16360"
      ]
     },
     "metadata": {},
     "output_type": "display_data"
    },
    {
     "data": {
      "text/latex": [
       "$\\displaystyle \\frac{637}{8180} - \\frac{49 x}{8180}$"
      ],
      "text/plain": [
       "637/8180 - 49*x/8180"
      ]
     },
     "metadata": {},
     "output_type": "display_data"
    },
    {
     "data": {
      "image/png": "[encoded data removed]",
      "text/plain": [
       "<Figure size 720x288 with 1 Axes>"
      ]
     },
     "metadata": {
      "needs_background": "light"
     },
     "output_type": "display_data"
    }
   ],
   "source": [
    "x1_np = np.linspace(0,5,10000)\n",
    "x2_np = np.linspace(5,7,10000)\n",
    "x3_np = np.linspace(7,9,10000)\n",
    "x4_np = np.linspace(9,13,10000)\n",
    "\n",
    "w1_np = sym.lambdify(x, w1.subs(sol).rewrite(sym.Piecewise))\n",
    "display(w1.subs(sol))\n",
    "w2_np = sym.lambdify(x, w2.subs(sol).rewrite(sym.Piecewise))\n",
    "display(w2.subs(sol))\n",
    "w3_np = sym.lambdify(x, w3.subs(sol).rewrite(sym.Piecewise))\n",
    "display(w3.subs(sol))\n",
    "w4_np = sym.lambdify(x, w4.subs(sol).rewrite(sym.Piecewise))\n",
    "display(w4.subs(sol))\n",
    "\n",
    "plt.figure(figsize=(10,4))\n",
    "plt.plot(x1_np,w1_np(x1_np))\n",
    "plt.plot(x2_np,w2_np(x2_np))\n",
    "plt.plot(x3_np,w3_np(x3_np))\n",
    "plt.plot(x4_np,w4_np(x4_np))\n",
    "plt.xlabel('$x$')\n",
    "plt.ylabel('$w$');\n",
    "ax = plt.gca()\n",
    "ax.spines['right'].set_color('none')\n",
    "ax.spines['top'].set_color('none')\n",
    "ax.spines['bottom'].set_position('zero')\n",
    "ax.spines['left'].set_position('zero')\n",
    "ax.invert_yaxis()"
   ]
  },
  {
   "cell_type": "code",
   "execution_count": 9,
   "id": "fd621b22-cf94-4a65-8d7e-fbc73c595d08",
   "metadata": {},
   "outputs": [
    {
     "data": {
      "text/latex": [
       "$\\displaystyle \\frac{6105}{409} - 8 x$"
      ],
      "text/plain": [
       "6105/409 - 8*x"
      ]
     },
     "metadata": {},
     "output_type": "display_data"
    },
    {
     "data": {
      "text/latex": [
       "$\\displaystyle \\frac{7775}{409}$"
      ],
      "text/plain": [
       "7775/409"
      ]
     },
     "metadata": {},
     "output_type": "display_data"
    },
    {
     "data": {
      "text/latex": [
       "$\\displaystyle - \\frac{2450}{409}$"
      ],
      "text/plain": [
       "-2450/409"
      ]
     },
     "metadata": {},
     "output_type": "display_data"
    },
    {
     "data": {
      "text/latex": [
       "$\\displaystyle - \\frac{2450}{409}$"
      ],
      "text/plain": [
       "-2450/409"
      ]
     },
     "metadata": {},
     "output_type": "display_data"
    },
    {
     "data": {
      "image/png": "[encoded data removed]",
      "text/plain": [
       "<Figure size 720x288 with 1 Axes>"
      ]
     },
     "metadata": {
      "needs_background": "light"
     },
     "output_type": "display_data"
    }
   ],
   "source": [
    "V1 = V1.subs(sol).rewrite(sym.Piecewise)\n",
    "V2 = V2.subs(sol).rewrite(sym.Piecewise)\n",
    "V3 = V3.subs(sol).rewrite(sym.Piecewise)\n",
    "V4 = V4.subs(sol).rewrite(sym.Piecewise)\n",
    "\n",
    "V1_np = sym.lambdify(x, V1) if V1.free_symbols else float(V1)\n",
    "V2_np = sym.lambdify(x, V2) if V2.free_symbols else float(V2)\n",
    "V3_np = sym.lambdify(x, V3) if V3.free_symbols else float(V3)\n",
    "V4_np = sym.lambdify(x, V4) if V4.free_symbols else float(V4)\n",
    "\n",
    "display(V1.subs(sol))\n",
    "display(V2.subs(sol))\n",
    "display(V3.subs(sol))\n",
    "display(V4.subs(sol))\n",
    "\n",
    "plt.figure(figsize=(10,4))\n",
    "plt.plot(x1_np,V1_np(x1_np)) if callable(V1_np) else plt.plot(x1_np,V1_np*np.ones(len(x1_np)))\n",
    "plt.plot(x2_np,V2_np(x2_np)) if callable(V2_np) else plt.plot(x2_np,V2_np*np.ones(len(x2_np)))\n",
    "plt.plot(x3_np,V3_np(x3_np)) if callable(V3_np) else plt.plot(x3_np,V3_np*np.ones(len(x3_np)))\n",
    "plt.plot(x4_np,V4_np(x4_np)) if callable(V4_np) else plt.plot(x4_np,V4_np*np.ones(len(x4_np)))\n",
    "plt.xlabel('$x$')\n",
    "plt.ylabel('$V$');\n",
    "ax = plt.gca()\n",
    "ax.spines['right'].set_color('none')\n",
    "ax.spines['top'].set_color('none')\n",
    "ax.spines['bottom'].set_position('zero')\n",
    "ax.spines['left'].set_position('zero')\n",
    "ax.invert_yaxis()"
   ]
  },
  {
   "cell_type": "code",
   "execution_count": null,
   "id": "f0e267da-91fe-4337-85cb-8602c7a6b8af",
   "metadata": {},
   "outputs": [],
   "source": []
  }
 ],
 "metadata": {
  "kernelspec": {
   "display_name": "Python 3",
   "language": "python",
   "name": "python3"
  },
  "language_info": {
   "codemirror_mode": {
    "name": "ipython",
    "version": 3
   },
   "file_extension": ".py",
   "mimetype": "text/x-python",
   "name": "python",
   "nbconvert_exporter": "python",
   "pygments_lexer": "ipython3",
   "version": "3.8.8"
  }
 },
 "nbformat": 4,
 "nbformat_minor": 5
}
